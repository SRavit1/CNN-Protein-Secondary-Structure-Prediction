{
  "nbformat": 4,
  "nbformat_minor": 0,
  "metadata": {
    "colab": {
      "name": "Protein Structure Prediction - CNN.ipynb",
      "version": "0.3.2",
      "provenance": [],
      "private_outputs": true,
      "collapsed_sections": []
    },
    "kernelspec": {
      "name": "python3",
      "display_name": "Python 3"
    },
    "accelerator": "GPU"
  },
  "cells": [
    {
      "metadata": {
        "id": "vxjQjboNTsy7",
        "colab_type": "code",
        "colab": {}
      },
      "cell_type": "code",
      "source": [
        "import urllib.request\n",
        "import io\n",
        "import gzip\n",
        "\n",
        "import numpy as np\n",
        "import tensorflow as tf"
      ],
      "execution_count": 0,
      "outputs": []
    },
    {
      "metadata": {
        "id": "e39E5-dzDRm2",
        "colab_type": "code",
        "colab": {}
      },
      "cell_type": "code",
      "source": [
        "import keras\n",
        "from keras.layers import Input, Dense, Activation, BatchNormalization, Flatten, Conv2D, concatenate\n",
        "from keras.models import Model"
      ],
      "execution_count": 0,
      "outputs": []
    },
    {
      "metadata": {
        "id": "MXzMbs-vzE1H",
        "colab_type": "text"
      },
      "cell_type": "markdown",
      "source": [
        "Text is ordered in the following pattern:\n",
        "\n",
        "Each line is a sample and contains the following information delimited by a colon (':')\n",
        "\n",
        "\n",
        "\n",
        "*   Protein ID\n",
        "*   Random Letter\n",
        "*   Primary Sequence (using one-letter codes)\n",
        "*   Secondary structure classification (C - coil, H - Alpha Helix, E - Beta Strand)\n",
        "\n",
        "Here is an example:\n",
        "\n",
        "    3L3K:C:EEFGAAASF:CCCCCCCCC\n",
        "\n",
        "We have to convert amino acids and labels to numbers for the computer.\n",
        "\n",
        "X: 04 04 05 06 01 01 01 16 05\n",
        "\n",
        "Y1: 0 0 0 0 0 0 0 0 0\n",
        "\n",
        "Y2: 1 1 1 1 1 1 1 1 1\n",
        "\n",
        "Y3: 0 0 0 0 0 0 0 0 0\n",
        "\n",
        "X is passed in as input to all 3 neural networks.\n",
        "\n",
        "Y1 is output of neural network 1 (model 1)\n",
        "\n",
        "Y2 is output of neural network 2 (model 2)\n",
        "\n",
        "Y3 is output of neural network 3 (model 3)\n",
        "\n",
        "Each neural network gives an output for probabilities that each element is part of the NN's corresponding class. For example, model 1 will assign probabilities for each element regarding how likely it is to be of class 1."
      ]
    },
    {
      "metadata": {
        "id": "XC-9VC3Cbshv",
        "colab_type": "code",
        "colab": {}
      },
      "cell_type": "code",
      "source": [
        "amino_lookup = {\"A\":1, \"C\":2, \"D\":3, \"E\":4, \"F\":5, \"G\":6, \"H\":7, \"I\":8, \"K\":9, \"L\":10, \"M\":11, \"N\":12, \"P\":13, \"Q\":14, \"R\":15, \"S\":16, \"T\":17,\n",
        "                \"V\":18, \"W\":19, \"Y\":20, \"0\": -1}\n",
        "\n",
        "label_lookup = {\"C\": 1, \"H\": 2, \"E\": 3}\n",
        "\n",
        "def aa_to_number (aa_sequence):\n",
        "  return [amino_lookup.get(aa, 0) for aa in aa_sequence]\n",
        "\n",
        "def label_to_number (label_sequence):\n",
        "  return [label_lookup.get(label, 0) for label in label_sequence]"
      ],
      "execution_count": 0,
      "outputs": []
    },
    {
      "metadata": {
        "id": "0o3qrelNnc_q",
        "colab_type": "code",
        "colab": {}
      },
      "cell_type": "code",
      "source": [
        "def load_dataset():\n",
        "  gh_url = 'https://github.com/SRavit1/CNN-Protein-Secondary-Structure-Prediction/raw/master/ModifiedSSData1.gz'\n",
        "  response = urllib.request.urlopen(gh_url)\n",
        "  compressed_file = io.BytesIO(response.read())\n",
        "  decompressed_file = gzip.GzipFile(fileobj=compressed_file)\n",
        "\n",
        "  contents = decompressed_file.read().decode()\n",
        "  \n",
        "  contents_array = np.array(contents.splitlines())\n",
        "  num_of_samples = len(contents_array)\n",
        "  #should be 467602\n",
        "  \n",
        "  features = np.zeros((num_of_samples, 11, 20))\n",
        "  labels = np.zeros((num_of_samples, 3))\n",
        "\n",
        "  for i in range(num_of_samples):\n",
        "    sample = contents_array[i];\n",
        "    x = sample.split(\":\")[0];\n",
        "    for j in range (len(x)):\n",
        "      aa_number = amino_lookup.get(x[j]) - 1\n",
        "      if (aa_number >=0):\n",
        "        features.itemset((i, j, aa_number), 1)\n",
        "    y = sample.split(\":\")[1];\n",
        "    y = label_lookup.get(y, 0);\n",
        "    labels.itemset((i, y-1), 1)\n",
        "\n",
        "  cutoff = 400000\n",
        "  X_train = features[:cutoff]\n",
        "  Y_train = labels[:cutoff]\n",
        "  X_test = features[cutoff:]\n",
        "  Y_test = labels[cutoff:]\n",
        "  \n",
        "  return X_train, Y_train, X_test, Y_test"
      ],
      "execution_count": 0,
      "outputs": []
    },
    {
      "metadata": {
        "id": "6lsMrqnoViH9",
        "colab_type": "code",
        "colab": {}
      },
      "cell_type": "code",
      "source": [
        "X_train, Y_train, X_test, Y_test = load_dataset()\n",
        "\n",
        "X_train = np.reshape (X_train, (400000, 11, 20, 1))\n",
        "X_test = np.reshape (X_test, (67602, 11, 20, 1))\n",
        "\n",
        "print (\"Shape of\")\n",
        "print (\"X_train:\", X_train.shape)\n",
        "print (\"Y_train:\", Y_train.shape)\n",
        "print (\"X_test:\", X_test.shape)\n",
        "print (\"Y_test:\", Y_test.shape)"
      ],
      "execution_count": 0,
      "outputs": []
    },
    {
      "metadata": {
        "id": "Z-9SdH9sY43c",
        "colab_type": "code",
        "colab": {}
      },
      "cell_type": "code",
      "source": [
        "def model(input_shape, model_name):\n",
        "  X_input = Input(input_shape)\n",
        "  X = X_input\n",
        "\n",
        "  X1 = Conv2D (20, (1, 20), strides = (1, 1))(X)\n",
        "  X1 = Flatten()(X1)\n",
        "  X2 = Conv2D (500, (8, 20), strides = (1, 1))(X)\n",
        "  X2 = Flatten()(X2)\n",
        "  \n",
        "  X = concatenate ([X1, X2])\n",
        "  \n",
        "  X = Activation('relu')(X)\n",
        "  \n",
        "  X = Dense(3, activation='sigmoid', name='fc')(X)\n",
        "  return Model(inputs = X_input, outputs = X, name=model_name)"
      ],
      "execution_count": 0,
      "outputs": []
    },
    {
      "metadata": {
        "id": "UguOtJzfDfbO",
        "colab_type": "code",
        "colab": {}
      },
      "cell_type": "code",
      "source": [
        "model = model((11, 20, 1), 'model')\n",
        "model.compile (optimizer=keras.optimizers.Adadelta(lr=4.0), loss=\"categorical_crossentropy\", metrics=[\"accuracy\"])"
      ],
      "execution_count": 0,
      "outputs": []
    },
    {
      "metadata": {
        "id": "4FXm0gx3Dh8w",
        "colab_type": "code",
        "colab": {}
      },
      "cell_type": "code",
      "source": [
        "model.fit (x=X_train, y=Y_train, epochs=10, batch_size=2048)"
      ],
      "execution_count": 0,
      "outputs": []
    },
    {
      "metadata": {
        "id": "KToMbTTADiRC",
        "colab_type": "code",
        "colab": {}
      },
      "cell_type": "code",
      "source": [
        "preds = model.evaluate(x=X_test, y=Y_test)\n",
        "\n",
        "print()\n",
        "print (\"Loss = \" + str(preds[0]))\n",
        "print (\"Test Accuracy = \" + str(preds[1]))"
      ],
      "execution_count": 0,
      "outputs": []
    },
    {
      "metadata": {
        "id": "JGUeXFjc1Gta",
        "colab_type": "code",
        "colab": {}
      },
      "cell_type": "code",
      "source": [
        "index = 39494\n",
        "\n",
        "print (\"X\")\n",
        "print (X_train[index,:,:,0])\n",
        "print (\"Y\")\n",
        "print (Y_train[index])\n",
        "print (\"Predicted\", model.predict(np.reshape(X_train[index], (1, 11, 20, 1))))"
      ],
      "execution_count": 0,
      "outputs": []
    },
    {
      "metadata": {
        "id": "ltWj89_E8LYR",
        "colab_type": "code",
        "colab": {}
      },
      "cell_type": "code",
      "source": [
        "model.summary()"
      ],
      "execution_count": 0,
      "outputs": []
    }
  ]
}